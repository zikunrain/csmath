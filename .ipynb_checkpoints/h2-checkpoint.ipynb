{
 "cells": [
  {
   "cell_type": "code",
   "execution_count": 6,
   "metadata": {},
   "outputs": [],
   "source": [
    "import numpy as np\n",
    "import matplotlib.pyplot as plt\n",
    "import matplotlib.gridspec as gridspec\n",
    "from operator import add\n",
    "from functools import reduce\n",
    "from itertools import product\n",
    "\n",
    "\n",
    "def pca(X):\n",
    "    Xt = np.array(X).transpose()\n",
    "    co = np.cov(Xt)\n",
    "    w, v = np.linalg.eig(co)\n",
    "    si = w.argsort()[::-1]\n",
    "    w, v = w[si], v[:, si]\n",
    "    x1 = v[:, 0].dot(Xt) / 3\n",
    "    x2 = v[:, 1].dot(Xt) / 3\n",
    "    return np.dstack((x1, x2))[0]\n",
    "\n",
    "\n",
    "def vectorizeStrings(l):\n",
    "    return reduce(add, list(map(lambda s: list(map(int, s.strip())), l)))\n",
    "\n",
    "\n",
    "def blockSum_Pool(bits):\n",
    "    mat = np.array(bits).reshape(32, 32)\n",
    "    features = []\n",
    "    for i in range(0, 32, 4):\n",
    "        for j in range(0, 32, 4):\n",
    "            features.append(np.sum(mat[i:i+4,j:j+4]))\n",
    "    return features\n",
    "\n",
    "\n",
    "def getDistance(a, b):\n",
    "    return np.linalg.norm(np.array(a) - np.array(b))\n",
    "\n",
    "\n",
    "def readDataset():\n",
    "    f = open('optdigits-orig.tra')\n",
    "    inputs = f.readlines()[21:]\n",
    "    if not inputs[-1]: inputs = inputs[:-1]\n",
    "    data = [inputs[x : x + 33] for x in range(0, len(inputs), 33)]\n",
    "\n",
    "    bits = list(map(lambda d: vectorizeStrings(d[:-1]), data))\n",
    "    labels = list(map(lambda d: int(d[32].strip()), data))\n",
    "\n",
    "    threes = filter(lambda p: p[1] == 3, zip(bits, labels))\n",
    "    imgt, _ = zip(*threes)\n",
    "    features = list(map(blockSum_Pool, imgt))\n",
    "    return features, imgt\n",
    "\n",
    "\n",
    "def select(xc, yc, x):\n",
    "    c = list(product(xc, yc)) # selected points\n",
    "\n",
    "    minDist = list(map(lambda x: 99999, range(len(c)))) # neighbors' distance\n",
    "    neighborsPoints = list(map(lambda x: [0, 0], range(len(c)))) # neighbors' x\n",
    "    neighborsIndices = list(map(lambda x: -1, range(len(c)))) # neighbors' index\n",
    "\n",
    "    for t, xs in enumerate(x):\n",
    "        for k, cs in enumerate(c):\n",
    "            dist = getDistance(xs, cs)\n",
    "            if dist < minDist[k]:\n",
    "                minDist[k] = dist\n",
    "                neighborsPoints[k] = xs\n",
    "                neighborsIndices[k] = t\n",
    "    \n",
    "    return neighborsPoints, neighborsIndices"
   ]
  },
  {
   "cell_type": "code",
   "execution_count": 7,
   "metadata": {},
   "outputs": [
    {
     "data": {
      "image/png": "[encoded data removed]",
      "text/plain": [
       "<Figure size 864x360 with 26 Axes>"
      ]
     },
     "metadata": {
      "needs_background": "light"
     },
     "output_type": "display_data"
    }
   ],
   "source": [
    "features, img = readDataset()\n",
    "x = pca(features)\n",
    "\n",
    "xc = [-5, -2.5, 0, 2.5, 5]\n",
    "yc = [-5, -2.5, 0, 2.5, 5]\n",
    "neighborsPoints, neighborsIndices = select(xc, yc, x)\n",
    "\n",
    "fig = plt.figure(figsize=(12, 5))\n",
    "outer = gridspec.GridSpec(1, 2, wspace=0.3)\n",
    "\n",
    "# draw scatter plot\n",
    "leftSpec = gridspec.GridSpecFromSubplotSpec(1, 1, subplot_spec=outer[0])\n",
    "leftAx = plt.Subplot(fig, leftSpec[0])\n",
    "x, y = zip(*x)\n",
    "xp, yp = zip(*neighborsPoints)\n",
    "leftAx.set_xticks(xc)\n",
    "leftAx.set_yticks(xc)\n",
    "leftAx.plot(x, y, 'g.')\n",
    "leftAx.plot(xp, yp, 'ro', mfc='none')\n",
    "leftAx.grid(True)\n",
    "fig.add_subplot(leftAx)\n",
    "\n",
    "# draw images\n",
    "rightSpec = gridspec.GridSpecFromSubplotSpec(5, 5, subplot_spec=outer[1], wspace=-0.2, hspace=0)\n",
    "for k, t in enumerate(neighborsIndices):\n",
    "    rightAx = plt.Subplot(fig, rightSpec[k])\n",
    "    rightAx.imshow(np.array(img[t]).reshape(32, 32), cmap='gray_r')\n",
    "    rightAx.set_xticks([])\n",
    "    rightAx.set_yticks([])\n",
    "    for spine in rightAx.spines.values():\n",
    "        spine.set_color('red')\n",
    "    fig.add_subplot(rightAx)\n",
    "\n",
    "plt.show()"
   ]
  },
  {
   "cell_type": "code",
   "execution_count": null,
   "metadata": {},
   "outputs": [],
   "source": []
  }
 ],
 "metadata": {
  "kernelspec": {
   "display_name": "Python 3",
   "language": "python",
   "name": "python3"
  },
  "language_info": {
   "codemirror_mode": {
    "name": "ipython",
    "version": 3
   },
   "file_extension": ".py",
   "mimetype": "text/x-python",
   "name": "python",
   "nbconvert_exporter": "python",
   "pygments_lexer": "ipython3",
   "version": "3.7.0"
  }
 },
 "nbformat": 4,
 "nbformat_minor": 2
}
